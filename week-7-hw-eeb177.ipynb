{
 "cells": [
  {
   "cell_type": "markdown",
   "metadata": {},
   "source": [
    "#**My favorite fishes**\n",
    "\n",
    "Jin Sun Kim\n",
    "\n",
    "**Oncorhynchus mykiss**\n",
    "\n",
    "Family: Salmonidae\n",
    "\n",
    "Max length: 122cm\n",
    "\n",
    "\n",
    "**Scomber japonicus**\n",
    "\n",
    "Family: Scombridae\n",
    "\n",
    "Max length: 64cm\n",
    "    \n",
    "\n",
    "**Trichiurus lepturus**\n",
    "\n",
    "Family: Trichiuridae\n",
    "\n",
    "Max length: 234cm\n",
    "    \n",
    "\n",
    "**Anguilla anguilla**\n",
    "\n",
    "Family: Anguillidae\n",
    "\n",
    "Max length: 122cm"
   ]
  },
  {
   "cell_type": "code",
   "execution_count": null,
   "metadata": {
    "collapsed": true
   },
   "outputs": [],
   "source": []
  }
 ],
 "metadata": {
  "anaconda-cloud": {},
  "kernelspec": {
   "display_name": "Python [default]",
   "language": "python",
   "name": "python3"
  },
  "language_info": {
   "codemirror_mode": {
    "name": "ipython",
    "version": 3
   },
   "file_extension": ".py",
   "mimetype": "text/x-python",
   "name": "python",
   "nbconvert_exporter": "python",
   "pygments_lexer": "ipython3",
   "version": "3.5.2"
  }
 },
 "nbformat": 4,
 "nbformat_minor": 2
}
