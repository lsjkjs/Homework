{
 "cells": [
  {
   "cell_type": "markdown",
   "metadata": {},
   "source": [
    "# Homework 5\n",
    "## Part 1\n",
    "\n",
    "**#1.** \n",
    "tail -n +4 w5-figure1.csv | cut -d \",\" -f 3 | sort | uniq | wc -l\n",
    "\n",
    "There are 194 families in the file.\n",
    "\n",
    "**#2.**\n",
    "tail -n +4 w5-figure1.csv | cut -d \",\" -f 3 | sort | uniq -c | sort -g\n",
    "\n",
    "Trochilidae has the most number of species.\n",
    "\n",
    "**#3.** \n",
    "tail -n +4 w5-figure1.csv | cut -d \",\" -f 3 | sort | uniq -c | sort -g | grep -w 1 | wc -l\n",
    "\n",
    "There are 60 families with one species.\n",
    "\n",
    "**#4.**\n",
    "tail -n +2 w5-eBird.csv | cut -d \",\" -f 8 | sort | uniq | wc -l\n",
    "\n",
    "There are 239 families in this file.\n",
    "\n",
    "**#5.**\n",
    "tail -n +2 w5-eBird.csv | cut -d \",\" -f 8 | sort | uniq -c | sort -g\n"
   ]
  },
  {
   "cell_type": "code",
   "execution_count": null,
   "metadata": {
    "collapsed": false
   },
   "outputs": [],
   "source": [
    "##Part 2\n",
    "#Question 1\n",
    "\n",
    "# w5-figure1-species.csv contains the list of species from the data in figure 1\n",
    "# w5-figure1-families.csv contains the list of families from the data in figure 1\n",
    "\n",
    "keys = []\n",
    "with open(\"/home/eeb177-student/Desktop/eeb-177/Homework/w5-figure1-species.csv\") as file:\n",
    "    for line in file:\n",
    "        line = line.strip() \n",
    "        keys.append(line)\n",
    "values = []\n",
    "with open(\"/home/eeb177-student/Desktop/eeb-177/Homework/w5-figure1-families.csv\") as file:\n",
    "    for line in file:\n",
    "        line = line.strip()\n",
    "        values.append(line)\n",
    "nature_dict = dict(zip(keys,values))\n",
    "\n",
    "for species in nature_dict.keys():\n",
    "    print(\"Species \"+species+\" belongs to Family \"+nature_dict[species])"
   ]
  },
  {
   "cell_type": "code",
   "execution_count": null,
   "metadata": {
    "collapsed": false
   },
   "outputs": [],
   "source": [
    "#Question 2\n",
    "\n",
    "# w5-eBird-species.csv contains the list of species from the eBird data\n",
    "# w5-eBird-families.csv contains the list of families from the eBird data\n",
    "\n",
    "key = []\n",
    "with open(\"/home/eeb177-student/Desktop/eeb-177/Homework/w5-eBird-species.csv\") as file:\n",
    "    for line in file:\n",
    "        line = line.strip() \n",
    "        key.append(line)\n",
    "value = []\n",
    "with open(\"/home/eeb177-student/Desktop/eeb-177/Homework/w5-eBird-families.csv\") as file:\n",
    "    for line in file:\n",
    "        line = line.strip()\n",
    "        value.append(line)\n",
    "eBird_dict = dict(zip(key,value))\n",
    "\n",
    "for species in eBird_dict.keys():\n",
    "    print(\"Species \"+species+\" belongs to Family \"+eBird_dict[species])"
   ]
  },
  {
   "cell_type": "code",
   "execution_count": null,
   "metadata": {
    "collapsed": false
   },
   "outputs": [],
   "source": [
    "#Question 3\n",
    "\n",
    "from collections import Counter\n",
    "\n",
    "counted = Counter(value)\n",
    "#the list value has the list of families in eBird\n",
    "\n",
    "for family in counted.keys():\n",
    "    print(\"There are \"+str(counted[family])+\" total species in Family \"+family)"
   ]
  },
  {
   "cell_type": "code",
   "execution_count": 21,
   "metadata": {
    "collapsed": false
   },
   "outputs": [],
   "source": [
    "## Part 3\n",
    "\n",
    "# Percentage of amino acid residues, part one\n",
    "\n",
    "def get_aa_percentage(protein, aa):\n",
    "    protein = protein.upper()\n",
    "    aa = aa.upper()\n",
    "    aa_count = protein.count(aa)\n",
    "    protein_length = len(protein)\n",
    "    percentage = aa_count * 100 / protein_length\n",
    "    return percentage\n",
    "\n",
    "assert get_aa_percentage(\"MSRSLLLRFLLFLLLLPPLP\", \"M\") == 5\n",
    "assert get_aa_percentage(\"MSRSLLLRFLLFLLLLPPLP\", \"r\") == 10\n",
    "assert get_aa_percentage(\"msrslllrfllfllllpplp\", \"L\") == 50\n",
    "assert get_aa_percentage(\"MSRSLLLRFLLFLLLLPPLP\", \"Y\") == 0"
   ]
  },
  {
   "cell_type": "code",
   "execution_count": 32,
   "metadata": {
    "collapsed": true
   },
   "outputs": [],
   "source": [
    "# Percentage of amino acid residues, part two\n",
    "\n",
    "def get_aa_percentage(protein, aa_list=['A','I','L','M','F','W','Y','V']):\n",
    "    protein = protein.upper()\n",
    "    protein_length = len(protein)\n",
    "    total = 0\n",
    "    for aa in aa_list:\n",
    "        aa = aa.upper()\n",
    "        aa_count = protein.count(aa)\n",
    "        total = total + aa_count\n",
    "    percentage = total * 100 / protein_length\n",
    "    return percentage\n",
    "\n",
    "assert get_aa_percentage(\"MSRSLLLRFLLFLLLLPPLP\", [\"M\"]) == 5\n",
    "assert get_aa_percentage(\"MSRSLLLRFLLFLLLLPPLP\", ['M', 'L']) == 55\n",
    "assert get_aa_percentage(\"MSRSLLLRFLLFLLLLPPLP\", ['F', 'S', 'L']) == 70\n",
    "assert get_aa_percentage(\"MSRSLLLRFLLFLLLLPPLP\") == 65\n"
   ]
  },
  {
   "cell_type": "code",
   "execution_count": null,
   "metadata": {
    "collapsed": true
   },
   "outputs": [],
   "source": []
  }
 ],
 "metadata": {
  "anaconda-cloud": {},
  "kernelspec": {
   "display_name": "Python [default]",
   "language": "python",
   "name": "python3"
  },
  "language_info": {
   "codemirror_mode": {
    "name": "ipython",
    "version": 3
   },
   "file_extension": ".py",
   "mimetype": "text/x-python",
   "name": "python",
   "nbconvert_exporter": "python",
   "pygments_lexer": "ipython3",
   "version": "3.5.2"
  }
 },
 "nbformat": 4,
 "nbformat_minor": 2
}
