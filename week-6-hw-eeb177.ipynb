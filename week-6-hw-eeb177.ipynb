{
 "cells": [
  {
   "cell_type": "markdown",
   "metadata": {},
   "source": [
    "# HW 6\n",
    "**Part 1: Code Academy Review**\n",
    "    \n"
   ]
  },
  {
   "cell_type": "markdown",
   "metadata": {},
   "source": [
    "![Python syntax completion badge](python_syntax.png)"
   ]
  },
  {
   "cell_type": "markdown",
   "metadata": {},
   "source": [
    "![String and console output completion badge](strings_console_output.png)"
   ]
  },
  {
   "cell_type": "markdown",
   "metadata": {},
   "source": [
    "![Conditionals and control flow completion badge](conditionals_control_flow.png)"
   ]
  },
  {
   "cell_type": "markdown",
   "metadata": {},
   "source": [
    "![Functions completion badge](functions.png)"
   ]
  },
  {
   "cell_type": "markdown",
   "metadata": {},
   "source": [
    "![Python lists and dictionaries completion badge](python_lists_dictionaries.png)"
   ]
  },
  {
   "cell_type": "markdown",
   "metadata": {
    "collapsed": true
   },
   "source": [
    "![Lists and functions completion badge](lists_functions.png)"
   ]
  },
  {
   "cell_type": "markdown",
   "metadata": {},
   "source": [
    "![Loops completion badge](loops.png)"
   ]
  },
  {
   "cell_type": "code",
   "execution_count": null,
   "metadata": {
    "collapsed": true
   },
   "outputs": [],
   "source": []
  },
  {
   "cell_type": "markdown",
   "metadata": {
    "collapsed": true
   },
   "source": [
    "**Part 2; Python for Biologists**\n",
    "\n",
    "Pseudocode\n",
    "\n",
    "Split the DNA code into codons\n",
    "\n",
    "for codon in DNA:\n",
    "\n",
    "    translate each codon to the corresponding amino acid\n",
    "\n",
    "    put all the amino acid residues together\n",
    "   \n",
    "return protein\n"
   ]
  },
  {
   "cell_type": "code",
   "execution_count": 15,
   "metadata": {
    "collapsed": false
   },
   "outputs": [
    {
     "name": "stdout",
     "output_type": "stream",
     "text": [
      "MXX\n"
     ]
    }
   ],
   "source": [
    "gencode = {\n",
    "'ATA':'I', 'ATC':'I', 'ATT':'I', 'ATG':'M', 'TGC':'C', 'TGT':'C', 'TGA':'_', 'TGG':'W'}\n",
    "\n",
    "def translate_dna(dna):\n",
    "    last_codon_start = len(dna) - 2\n",
    "    protein = \"\"\n",
    "    for start in range(0,last_codon_start,3):\n",
    "        codon = dna[start:start+3]\n",
    "        aa = gencode.get(codon, \"X\")\n",
    "        protein = protein + aa\n",
    "    return protein\n",
    "\n",
    "print(translate_dna(\"ATGTTCGGT\"))"
   ]
  },
  {
   "cell_type": "code",
   "execution_count": 13,
   "metadata": {
    "collapsed": false
   },
   "outputs": [
    {
     "name": "stdout",
     "output_type": "stream",
     "text": [
      "An allele reached fixation at generation 72\n",
      "The genotype counts are\n",
      "{'aA': 0, 'AA': 100, 'Aa': 0, 'aa': 0}\n",
      "An allele reached fixation at generation 216\n",
      "The genotype counts are\n",
      "{'aA': 0, 'AA': 100, 'Aa': 0, 'aa': 0}\n"
     ]
    }
   ],
   "source": [
    "#Part 3\n",
    "#4.3.2\n",
    "#Simulation program\n",
    "\n",
    "import scipy\n",
    "def build_population(N, p):\n",
    "    \"\"\"The population consists of N individuals.\n",
    "    Each individual has two chromosomes, containing allele \"A\" or \"a\", with probability p and 1-p respectively.\n",
    "    The population is a list of tupules.\"\"\"\n",
    "    population = []\n",
    "    for i in range(N):\n",
    "        allele1 = \"A\"\n",
    "        if scipy.random.rand() > p:\n",
    "            allele1 = \"a\"\n",
    "        allele2 = \"A\"\n",
    "        if scipy.random.rand() > p:\n",
    "            allele2 = \"a\"\n",
    "        population.append((allele1, allele2))\n",
    "    return population\n",
    "\n",
    "def compute_frequencies(population):\n",
    "    \"\"\" Count the genotypes.\n",
    "    Returns a dictionary with counts for each genotype.\"\"\"\n",
    "    AA = population.count((\"A\", \"A\"))\n",
    "    Aa = population.count((\"A\", \"a\"))\n",
    "    aA = population.count((\"a\", \"A\"))\n",
    "    aa = population.count((\"a\", \"a\"))\n",
    "    return({\"AA\": AA,\"aa\": aa,\"Aa\": Aa,\"aA\": aA})\n",
    "\n",
    "def reproduce_population(population):\n",
    "    \"\"\" Create a new generation through sexual reproduction\n",
    "    For each of N new offspring:\n",
    "    - Choose the parents at random\n",
    "    - The offspring receives a chromosomes from each of\n",
    "    the parents\"\"\"\n",
    "    new_generation = []\n",
    "    N = len(population)\n",
    "    for i in range(N):\n",
    "        dad = scipy.random.randint(N) # random integer between 0 and N-1\n",
    "        mom = scipy.random.randint(N)\n",
    "        chr_mom = scipy.random.randint(2) # which chromosome comes from mom\n",
    "        offspring = (population[mom][chr_mom], population[dad][1 - chr_mom])\n",
    "        new_generation.append(offspring)\n",
    "    return(new_generation)\n",
    "\n",
    "\n",
    "def simulate_drift(N, p):\n",
    "# initialize the population\n",
    "    my_pop = build_population(N, p)\n",
    "    fixation = False\n",
    "    num_generations = 0\n",
    "    while fixation == False:\n",
    "        # compute genotype counts\n",
    "        genotype_counts = compute_frequencies(my_pop)\n",
    "        # if one allele went to fixation, end the simulation\n",
    "        if genotype_counts[\"AA\"] == N or genotype_counts[\"aa\"] == N:\n",
    "            print(\"An allele reached fixation at generation\",num_generations)\n",
    "            print(\"The genotype counts are\")\n",
    "            print(genotype_counts)\n",
    "            fixation == True\n",
    "            break\n",
    "        # if not, reproduce\n",
    "        my_pop = reproduce_population(my_pop)\n",
    "        num_generations = num_generations + 1\n",
    "\n",
    "simulate_drift(100, 0.5)\n",
    "simulate_drift(100, 0.9)"
   ]
  },
  {
   "cell_type": "code",
   "execution_count": 32,
   "metadata": {
    "collapsed": false
   },
   "outputs": [
    {
     "data": {
      "text/plain": [
       "0.18552824175524468"
      ]
     },
     "execution_count": 32,
     "metadata": {},
     "output_type": "execute_result"
    }
   ],
   "source": [
    "#4.9.1\n",
    "#Part 1\n",
    "#Assortative mating in animals\n",
    "\n",
    "def mean_r(taxon_name):\n",
    "    taxon_name = taxon_name.lower()\n",
    "    file = open(\"Jiang2013_data.csv\", \"r\")\n",
    "    r = [] # define r list\n",
    "    all_records = file.readlines()[1:] #read file\n",
    "    for line in all_records: #extract by taxon and put taxon and r in dictionary \n",
    "        record_elements = line.split(\",\")\n",
    "        if record_elements[2].lower() == taxon_name:\n",
    "            r.append(record_elements[4])\n",
    "    sum = 0\n",
    "    for item in r: #take sum of all r\n",
    "        sum = sum + float(item)\n",
    "    mean = sum / len(r) #find the mean by dividing sum by number of values\n",
    "    return(mean)\n",
    "\n",
    "mean_r(\"Amphibian\")\n",
    "\n",
    "\n"
   ]
  },
  {
   "cell_type": "code",
   "execution_count": null,
   "metadata": {
    "collapsed": false
   },
   "outputs": [],
   "source": []
  },
  {
   "cell_type": "code",
   "execution_count": null,
   "metadata": {
    "collapsed": false
   },
   "outputs": [],
   "source": []
  },
  {
   "cell_type": "code",
   "execution_count": null,
   "metadata": {
    "collapsed": true
   },
   "outputs": [],
   "source": []
  }
 ],
 "metadata": {
  "anaconda-cloud": {},
  "kernelspec": {
   "display_name": "Python [default]",
   "language": "python",
   "name": "python3"
  },
  "language_info": {
   "codemirror_mode": {
    "name": "ipython",
    "version": 3
   },
   "file_extension": ".py",
   "mimetype": "text/x-python",
   "name": "python",
   "nbconvert_exporter": "python",
   "pygments_lexer": "ipython3",
   "version": "3.5.2"
  }
 },
 "nbformat": 4,
 "nbformat_minor": 2
}
