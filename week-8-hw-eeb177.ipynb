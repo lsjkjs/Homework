{
 "cells": [
  {
   "cell_type": "markdown",
   "metadata": {},
   "source": [
    "**Part 1: Canids Continued**"
   ]
  },
  {
   "cell_type": "code",
   "execution_count": 30,
   "metadata": {
    "collapsed": false
   },
   "outputs": [],
   "source": [
    "#Earliest and latest appearance of species\n",
    "\n",
    "#open the file    \n",
    "infile = \"formatted.pbdb_data.csv\"\n",
    "with open(infile, \"r\") as ff:\n",
    "    canid_recs = ff.readlines()\n",
    "\n",
    "#use defaultdict\n",
    "from collections import defaultdict\n",
    "\n",
    "species_ranges = defaultdict(list) #dict is initialized as a list\n",
    "\n",
    "\n",
    "#make a dictionary\n",
    "for line in canid_recs:\n",
    "    species = line.split(\",\")[5][1:-1] #removes the quotes\n",
    "    minage = line.split(\",\")[10][1:-1] #removes the quotes\n",
    "    maxage = line.split(\",\")[11][1:-1] #removes the quotes\n",
    "    \n",
    "    mean_age = (float(minage) + float(maxage))/2\n",
    "    \n",
    "    species_ranges[species].append(mean_age) #add species as key and mean ages as elements to the list of ages\n"
   ]
  },
  {
   "cell_type": "code",
   "execution_count": 26,
   "metadata": {
    "collapsed": true
   },
   "outputs": [],
   "source": [
    "output = open(\"canid-ranges.csv\", \"w\")\n",
    "\n",
    "#2. sort so that species are listed alphabetically\n",
    "sorted_species = sorted(species_ranges.keys())\n",
    "\n",
    "#get the oldest and youngest ages of fossils for each species in species_ranges\n",
    "for key in sorted_species:\n",
    "    ages = species_ranges[key]\n",
    "    minage = min(ages)\n",
    "    maxage = max(ages)\n",
    "    genus = key.split(\" \")[0]\n",
    "    outline = \"{}, {}, {}, {}\\n\".format(genus, key, minage, maxage)\n",
    "    output.write(outline)\n",
    "    \n"
   ]
  },
  {
   "cell_type": "code",
   "execution_count": 27,
   "metadata": {
    "collapsed": true
   },
   "outputs": [],
   "source": [
    "# 3. First Function\n",
    "\n",
    "def function_one(file_name):\n",
    "    species_dict = defaultdict(list) #dict is initialized as list\n",
    "    file = open(file_name, \"r\") #open file\n",
    "    all_records = file.readlines()\n",
    "    for line in all_records:\n",
    "        record_elements = line.split(\",\") #split elements by delimiter comma\n",
    "        if record_elements[6].lower() == \"species\": #if the record is species\n",
    "            species = record_elements[5][1:-1]\n",
    "            minage = line.split(\",\")[10][1:-1]\n",
    "            maxage = line.split(\",\")[11][1:-1]\n",
    "            mean_age = (float(minage) + float(maxage))/2 #find the mean age\n",
    "            species_dict[species].append(mean_age) #add species as key and mean ages as elements to the list of ages\n",
    "    return species_dict\n"
   ]
  },
  {
   "cell_type": "code",
   "execution_count": 28,
   "metadata": {
    "collapsed": true
   },
   "outputs": [],
   "source": [
    "# 4. Second Function\n",
    "\n",
    "def function_two(dict_name, output_name):\n",
    "    output = open(output_name+\".csv\", \"w\") #output file\n",
    "    for key in dict_name.keys():\n",
    "        ages = dict_name[key]\n",
    "        minage = min(ages)\n",
    "        maxage = max(ages)\n",
    "        genus = key.split(\" \")[0]\n",
    "        outline = \"{}, {}, {}, {}\\n\".format(genus, key, minage, maxage)\n",
    "        output.write(outline)\n"
   ]
  },
  {
   "cell_type": "code",
   "execution_count": 36,
   "metadata": {
    "collapsed": false
   },
   "outputs": [
    {
     "data": {
      "text/plain": [
       "'Canidae'"
      ]
     },
     "execution_count": 36,
     "metadata": {},
     "output_type": "execute_result"
    }
   ],
   "source": [
    "# 5. Third Function\n",
    "\n",
    "def function_three(dict_name):\n",
    "    dict_range = {} #define dictionary\n",
    "    for key in dict_name.keys():\n",
    "        ages = dict_name[key]\n",
    "        range1 = max(ages)-min(ages) #find range of age\n",
    "        dict_range[key] = range1\n",
    "    v=list(dict_range.values())\n",
    "    k=list(dict_range.keys())\n",
    "    return k[v.index(max(v))] #return the key with max range of age\n",
    "\n",
    "function_three(species_ranges) #check to see if function is working"
   ]
  },
  {
   "cell_type": "code",
   "execution_count": null,
   "metadata": {
    "collapsed": true
   },
   "outputs": [],
   "source": []
  }
 ],
 "metadata": {
  "anaconda-cloud": {},
  "kernelspec": {
   "display_name": "Python [default]",
   "language": "python",
   "name": "python3"
  },
  "language_info": {
   "codemirror_mode": {
    "name": "ipython",
    "version": 3
   },
   "file_extension": ".py",
   "mimetype": "text/x-python",
   "name": "python",
   "nbconvert_exporter": "python",
   "pygments_lexer": "ipython3",
   "version": "3.5.2"
  }
 },
 "nbformat": 4,
 "nbformat_minor": 2
}
